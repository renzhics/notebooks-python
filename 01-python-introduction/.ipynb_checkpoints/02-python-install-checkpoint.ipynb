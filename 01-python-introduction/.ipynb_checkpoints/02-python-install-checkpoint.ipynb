{
 "cells": [
  {
   "cell_type": "markdown",
   "metadata": {
    "collapsed": true
   },
   "source": [
    "   # 安装\n",
    "   \n",
    "## 安装Python \n",
    "\n",
    "安装 ```python``` 会比较方便,直接到官网下载安装包，下载自己需要的版本（window用户注意自己的系统是32位还是64位），默认路径安装即可。然后注意要设置环境变量，具体安装过程就不叙述了，不懂得可以google搜索有很多教程可参考。\n",
    "\n",
    "## 安装Anaconda  \n",
    "\n",
    "Anaconda 是一个用于科学计算的 Python 发行版，支持 Linux、Mac和Windows，包含了众多流行的科学计算、数据分析的 Python 包。所以，强烈推荐使用 `Anaconda` 来管理你的安装环境和各种工具包。\n",
    "\n",
    "***conda*** 是开源包（packages）和虚拟环境（environment）的管理系统。\n",
    "\n",
    "- `packages `管理： 这部分功能与pip类似，可以使用 conda 来安装、更新 、卸载工具包 ，并且它更关注于数据科学相关的工具包。在安装 anaconda 时就预先集成了像 Numpy、Scipy、 pandas、Scikit-learn 这些在数据分析中常用的包。另外值得一提的是，conda 并不仅仅管理Python的工具包，它也能安装非python的包。比如在新版的 Anaconda 中就可以安装R语言的集成开发环境 Rstudio。\n",
    "\n",
    "- `environment`管理： 在conda中可以建立多个虚拟环境，用于隔离不同项目所需的不同版本的工具包，以防止版本上的冲突。对纠结于 Python 版本的同学们，我们也可以建立 Python2 和 Python3 两个环境，来分别运行不同版本的 Python 代码。\n",
    "\n",
    "\n",
    "\n",
    "根据自己的操作系统安装好[Anaconda](http://www.continuum.io/downloads)后（如果下载太慢可以使用清华大学的[Anaconda镜像](https://mirrors.tuna.tsinghua.edu.cn/help/anaconda/)安装），在命令行下输入：\n",
    "\n"
   ]
  },
  {
   "cell_type": "code",
   "execution_count": 1,
   "metadata": {},
   "outputs": [
    {
     "name": "stdout",
     "output_type": "stream",
     "text": [
      "usage: conda [-h] [-V] command ...\r\n",
      "\r\n",
      "conda is a tool for managing and deploying applications, environments and packages.\r\n",
      "\r\n",
      "Options:\r\n",
      "\r\n",
      "positional arguments:\r\n",
      "  command\r\n",
      "    info         Display information about current conda install.\r\n",
      "    help         Displays a list of available conda commands and their help\r\n",
      "                 strings.\r\n",
      "    list         List linked packages in a conda environment.\r\n",
      "    search       Search for packages and display their information. The input\r\n",
      "                 is a Python regular expression. To perform a search with a\r\n",
      "                 search string that starts with a -, separate the search from\r\n",
      "                 the options with --, like 'conda search -- -h'. A * in the\r\n",
      "                 results means that package is installed in the current\r\n",
      "                 environment. A . means that package is not installed but is\r\n",
      "                 cached in the pkgs directory.\r\n",
      "    create       Create a new conda environment from a list of specified\r\n",
      "                 packages.\r\n",
      "    install      Installs a list of packages into a specified conda\r\n",
      "                 environment.\r\n",
      "    update       Updates conda packages to the latest compatible version. This\r\n",
      "                 command accepts a list of package names and updates them to\r\n",
      "                 the latest versions that are compatible with all other\r\n",
      "                 packages in the environment. Conda attempts to install the\r\n",
      "                 newest versions of the requested packages. To accomplish\r\n",
      "                 this, it may update some packages that are already installed,\r\n",
      "                 or install additional packages. To prevent existing packages\r\n",
      "                 from updating, use the --no-update-deps option. This may\r\n",
      "                 force conda to install older versions of the requested\r\n",
      "                 packages, and it does not prevent additional dependency\r\n",
      "                 packages from being installed. If you wish to skip dependency\r\n",
      "                 checking altogether, use the '--force' option. This may\r\n",
      "                 result in an environment with incompatible packages, so this\r\n",
      "                 option must be used with great caution.\r\n",
      "    upgrade      Alias for conda update. See conda update --help.\r\n",
      "    remove       Remove a list of packages from a specified conda environment.\r\n",
      "    uninstall    Alias for conda remove. See conda remove --help.\r\n",
      "    config       Modify configuration values in .condarc. This is modeled\r\n",
      "                 after the git config command. Writes to the user .condarc\r\n",
      "                 file (/Users/pengwei/.condarc) by default.\r\n",
      "    clean        Remove unused packages and caches.\r\n",
      "    package      Low-level conda package utility. (EXPERIMENTAL)\r\n",
      "\r\n",
      "optional arguments:\r\n",
      "  -h, --help     Show this help message and exit.\r\n",
      "  -V, --version  Show the conda version number and exit.\r\n",
      "\r\n",
      "other commands, such as \"conda build\", are available when additional conda\r\n",
      "packages (e.g. conda-build) are installed\r\n",
      "\r\n"
     ]
    }
   ],
   "source": [
    "!conda"
   ]
  },
  {
   "cell_type": "markdown",
   "metadata": {
    "collapsed": true
   },
   "source": [
    "说明已经安装 `Anaconda` OK！\n",
    "\n",
    "用```conda --version```查看版本号："
   ]
  },
  {
   "cell_type": "code",
   "execution_count": 2,
   "metadata": {},
   "outputs": [
    {
     "name": "stdout",
     "output_type": "stream",
     "text": [
      "conda 4.3.30\r\n"
     ]
    }
   ],
   "source": [
    "!conda --version"
   ]
  },
  {
   "cell_type": "markdown",
   "metadata": {},
   "source": [
    "可以使用一下命令行更新`conda`：\n",
    "\n",
    "    conda update conda\n",
    "    conda update anaconda\n",
    "    \n",
    "查看 `conda` 的信息：\n",
    "\n",
    "    conda info"
   ]
  },
  {
   "cell_type": "code",
   "execution_count": 3,
   "metadata": {},
   "outputs": [
    {
     "name": "stdout",
     "output_type": "stream",
     "text": [
      "Current conda install:\r\n",
      "\r\n",
      "               platform : osx-64\r\n",
      "          conda version : 4.3.30\r\n",
      "       conda is private : False\r\n",
      "      conda-env version : 4.3.30\r\n",
      "    conda-build version : 3.0.27\r\n",
      "         python version : 3.6.3.final.0\r\n",
      "       requests version : 2.18.4\r\n",
      "       root environment : /Users/pengwei/anaconda3  (writable)\r\n",
      "    default environment : /Users/pengwei/anaconda3\r\n",
      "       envs directories : /Users/pengwei/anaconda3/envs\r\n",
      "                          /Users/pengwei/.conda/envs\r\n",
      "          package cache : /Users/pengwei/anaconda3/pkgs\r\n",
      "                          /Users/pengwei/.conda/pkgs\r\n",
      "           channel URLs : https://repo.continuum.io/pkgs/main/osx-64\r\n",
      "                          https://repo.continuum.io/pkgs/main/noarch\r\n",
      "                          https://repo.continuum.io/pkgs/free/osx-64\r\n",
      "                          https://repo.continuum.io/pkgs/free/noarch\r\n",
      "                          https://repo.continuum.io/pkgs/r/osx-64\r\n",
      "                          https://repo.continuum.io/pkgs/r/noarch\r\n",
      "                          https://repo.continuum.io/pkgs/pro/osx-64\r\n",
      "                          https://repo.continuum.io/pkgs/pro/noarch\r\n",
      "            config file : /Users/pengwei/.condarc\r\n",
      "             netrc file : None\r\n",
      "           offline mode : False\r\n",
      "             user-agent : conda/4.3.30 requests/2.18.4 CPython/3.6.3 Darwin/16.7.0 OSX/10.12.6    \r\n",
      "                UID:GID : 501:20\r\n"
     ]
    }
   ],
   "source": [
    "!conda info"
   ]
  },
  {
   "cell_type": "markdown",
   "metadata": {},
   "source": [
    "在后面的数据分析章节会经常用在 `Anaconda` 工具，使用细节后面再说。"
   ]
  },
  {
   "cell_type": "markdown",
   "metadata": {},
   "source": [
    "## 快速体验Python"
   ]
  },
  {
   "cell_type": "code",
   "execution_count": 4,
   "metadata": {},
   "outputs": [
    {
     "name": "stdout",
     "output_type": "stream",
     "text": [
      "hello, world\n"
     ]
    }
   ],
   "source": [
    "print(\"hello, world\")"
   ]
  },
  {
   "cell_type": "code",
   "execution_count": 5,
   "metadata": {},
   "outputs": [
    {
     "data": {
      "text/plain": [
       "2"
      ]
     },
     "execution_count": 5,
     "metadata": {},
     "output_type": "execute_result"
    }
   ],
   "source": [
    "1+1"
   ]
  }
 ],
 "metadata": {
  "kernelspec": {
   "display_name": "Python 3",
   "language": "python",
   "name": "python3"
  },
  "language_info": {
   "codemirror_mode": {
    "name": "ipython",
    "version": 3
   },
   "file_extension": ".py",
   "mimetype": "text/x-python",
   "name": "python",
   "nbconvert_exporter": "python",
   "pygments_lexer": "ipython3",
   "version": "3.6.3"
  }
 },
 "nbformat": 4,
 "nbformat_minor": 2
}
