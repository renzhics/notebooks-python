{
 "cells": [
  {
   "cell_type": "markdown",
   "metadata": {
    "collapsed": true
   },
   "source": [
    "# 数据类型\n",
    "   \n",
    "## 数据的概念\n",
    "\n",
    "> 类型是编程语音对程序的一种划分\n",
    "\n",
    "程序设计语言是不允许存在语法歧义的，所以要对程序中的数据进行明确的说明与界定，让计算机理解数据的含义，这就是数据类型的作用和意义。\n",
    "\n",
    "\n"
   ]
  },
  {
   "cell_type": "markdown",
   "metadata": {},
   "source": [
    "## Python的数据类型\n",
    "\n",
    "Python内置的常用数据类型有6种：\n",
    "\n",
    "- 数字（Number）\n",
    "- 布尔值（Boolean）\n",
    "- 字符串（String）\n",
    "- 元组（Tuple）\n",
    "- 列表（List）\n",
    "- 字典（Dictionary）\n",
    "\n",
    "\n",
    "|        数据类型         | 例子                                       | 描述                                       |\n",
    "| :-----------------: | :--------------------------------------- | :--------------------------------------- |\n",
    "|   数字<br/>（Number）   | **整数类型**：<br/>`-100`,`223` <br/>`0X9a`,`0x77`（0X，0x开头表示16进制数） <br />`0b10`,`0B101`（0b，0B开头表示2进制数）<br/>`0o123`,`0O234`（0o,0B开头表示8进制数）<br/>**浮点类型**：<br/>`0.0`,`-11.`,`2.23`<br/>`2e3`,`3.1E4`（科学记数法，e或者E表示幂的符号，10为基数，例如2e3=2乘10的3次幂）<br/>**复数**： | **整数**：与数学中的中的整数概念一致，没有取值范围的限制。<br />**浮点数**：带有小数点及小数的数字。Python中的浮点数有范围限制，小数精度也存在现在，这和计算机系统有关系。<br />**复数**：与数学中的复数概念一致, `z = a + bj`， `a`是实数部分，`b`是虚数部分，`a`和`b`都是浮点类型，虚数部分用`j`或者`J`标识。 示例：`12.3+4j`, `-5.6+7j` |\n",
    "|  布尔值<br/>（Boolean）  | True,False                               |                                          |\n",
    "|  字符串<br/>（String）   | `hello`, 'Wikipedia', \"Wikipedia\"        | 一个由字符组成的不可更改的有序列。在Python 3.x里，字符串由Unicode字符组成。 |\n",
    "|   元组<br/>（Tuple）    | [1, 1.2, 'hello']                        |                                          |\n",
    "|    列表<br/>（List）    | {'dogs': 5, 'pigs': 3}                   |                                          |\n",
    "| 字典<br/>（Dictionary） | {'key1': 1.0, 3: False}                  |                                          |\n",
    "\n",
    "\n",
    "\n",
    "比起其它的编程语音，Python内置的数据类型要简单很多。\n",
    "\n"
   ]
  }
 ],
 "metadata": {
  "kernelspec": {
   "display_name": "Python 3",
   "language": "python",
   "name": "python3"
  },
  "language_info": {
   "codemirror_mode": {
    "name": "ipython",
    "version": 3
   },
   "file_extension": ".py",
   "mimetype": "text/x-python",
   "name": "python",
   "nbconvert_exporter": "python",
   "pygments_lexer": "ipython3",
   "version": "3.6.3"
  }
 },
 "nbformat": 4,
 "nbformat_minor": 2
}
